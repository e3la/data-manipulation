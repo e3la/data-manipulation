{
  "cells": [
    {
      "cell_type": "markdown",
      "id": "1894ccac",
      "metadata": {
        "id": "1894ccac"
      },
      "source": [
        "# Data Manipulation Studio\n",
        "\n",
        "For this studio, we will revisit our California farmers looking for advice on growing pumpkins and the same [pumpkins dataset](https://www.kaggle.com/usda/a-year-of-pumpkin-prices) as provided by the U.S. Department of Agriculture. You may have to clean data in the process of data manipulation, so feel free to pull up your notebook from the last class's studio.\n",
        "\n",
        "We will now be focusing our attention on a different region in the United States, the Northeast. When you open up the `dataset` folder, you will have 13 CSVs, including the San Francisco and Los Angeles data from the last lesson. The 13 CSVs are each a different terminal market in the United States.\n",
        "\n",
        "## Getting Started\n",
        "\n",
        "Import the CSVs for each of the following cities: Baltimore, Boston, New York, and Philadelphia. Set up a dataframe for each city."
      ]
    },
    {
      "cell_type": "code",
      "execution_count": 2,
      "id": "66c9a7e7",
      "metadata": {
        "id": "66c9a7e7"
      },
      "outputs": [],
      "source": [
        "# Import the necessary libraries and CSVs. Make some dataframes!\n",
        "\n",
        "import pandas as pd\n",
        "import matplotlib\n",
        "import matplotlib.pyplot as plt\n",
        "import numpy as np\n",
        "\n",
        "balt = pd.read_csv(\"https://raw.githubusercontent.com/e3la/data-manipulation/master/dataset/baltimore_9-24-2016_9-30-2017.csv\")\n",
        "bos = pd.read_csv(\"https://raw.githubusercontent.com/e3la/data-manipulation/master/dataset/boston_9-24-2016_9-30-2017.csv\")\n",
        "nyc = pd.read_csv(\"https://raw.githubusercontent.com/e3la/data-manipulation/master/dataset/new-york_9-24-2016_9-30-2017.csv\")\n",
        "phil = pd.read_csv(\"https://raw.githubusercontent.com/e3la/data-manipulation/master/dataset/philadelphia_9-24-2016_9-30-2017.csv\")"
      ]
    },
    {
      "cell_type": "markdown",
      "id": "6cfda42f",
      "metadata": {
        "id": "6cfda42f"
      },
      "source": [
        "## Clean Your Data\n",
        "\n",
        "In the last lesson, we cleaned the data to related to San Francisco. Pull up your notebook from the last lesson and use your cleaning skills to clean the dataframes as necessary."
      ]
    },
    {
      "cell_type": "code",
      "source": [
        "print(balt.columns)\n",
        "print(bos.columns)\n",
        "print(nyc.columns)\n",
        "print(phil.columns)"
      ],
      "metadata": {
        "colab": {
          "base_uri": "https://localhost:8080/"
        },
        "id": "uxogACXwp0uc",
        "outputId": "339e3720-b1fe-4dd1-c2f1-1ab35a217034"
      },
      "id": "uxogACXwp0uc",
      "execution_count": 3,
      "outputs": [
        {
          "output_type": "stream",
          "name": "stdout",
          "text": [
            "Index(['Commodity Name', 'City Name', 'Type', 'Package', 'Variety',\n",
            "       'Sub Variety', 'Grade', 'Date', 'Low Price', 'High Price', 'Mostly Low',\n",
            "       'Mostly High', 'Origin', 'Origin District', 'Item Size', 'Color',\n",
            "       'Environment', 'Unit of Sale', 'Quality', 'Condition', 'Appearance',\n",
            "       'Storage', 'Crop', 'Repack', 'Trans Mode'],\n",
            "      dtype='object')\n",
            "Index(['Commodity Name', 'City Name', 'Type', 'Package', 'Variety',\n",
            "       'Sub Variety', 'Grade', 'Date', 'Low Price', 'High Price', 'Mostly Low',\n",
            "       'Mostly High', 'Origin', 'Origin District', 'Item Size', 'Color',\n",
            "       'Environment', 'Unit of Sale', 'Quality', 'Condition', 'Appearance',\n",
            "       'Storage', 'Crop', 'Repack', 'Trans Mode'],\n",
            "      dtype='object')\n",
            "Index(['Commodity Name', 'City Name', 'Type', 'Package', 'Variety',\n",
            "       'Sub Variety', 'Grade', 'Date', 'Low Price', 'High Price', 'Mostly Low',\n",
            "       'Mostly High', 'Origin', 'Origin District', 'Item Size', 'Color',\n",
            "       'Environment', 'Unit of Sale', 'Quality', 'Condition', 'Appearance',\n",
            "       'Storage', 'Crop', 'Repack', 'Trans Mode'],\n",
            "      dtype='object')\n",
            "Index(['Commodity Name', 'City Name', 'Type', 'Package', 'Variety',\n",
            "       'Sub Variety', 'Grade', 'Date', 'Low Price', 'High Price', 'Mostly Low',\n",
            "       'Mostly High', 'Origin', 'Origin District', 'Item Size', 'Color',\n",
            "       'Environment', 'Unit of Sale', 'Quality', 'Condition', 'Appearance',\n",
            "       'Storage', 'Crop', 'Repack', 'Trans Mode'],\n",
            "      dtype='object')\n"
          ]
        }
      ]
    },
    {
      "cell_type": "code",
      "execution_count": 4,
      "id": "98abc290",
      "metadata": {
        "id": "98abc290"
      },
      "outputs": [],
      "source": [
        "# Clean your data here!\n",
        "key = [\"Grade\",\"Origin District\", \"Item Size\", \"Environment\", \"Unit of Sale\", \"Quality\", \"Condition\", \"Appearance\", \"Storage\", \"Crop\", \"Trans Mode\"]\n",
        "balt = balt.drop(key, axis=1)\n",
        "bos = bos.drop(key, axis=1)\n",
        "nyc = nyc.drop(key, axis=1)\n",
        "phil = phil.drop(key, axis=1)\n"
      ]
    },
    {
      "cell_type": "code",
      "source": [
        "print(balt.columns,balt.shape)\n",
        "print(bos.columns,bos.shape)\n",
        "print(nyc.columns,nyc.shape)\n",
        "print(phil.columns,phil.shape)"
      ],
      "metadata": {
        "colab": {
          "base_uri": "https://localhost:8080/"
        },
        "id": "qO3qgBIfrj-Q",
        "outputId": "a2111c89-d020-405b-a3c9-3dbf023af75d"
      },
      "id": "qO3qgBIfrj-Q",
      "execution_count": 5,
      "outputs": [
        {
          "output_type": "stream",
          "name": "stdout",
          "text": [
            "Index(['Commodity Name', 'City Name', 'Type', 'Package', 'Variety',\n",
            "       'Sub Variety', 'Date', 'Low Price', 'High Price', 'Mostly Low',\n",
            "       'Mostly High', 'Origin', 'Color', 'Repack'],\n",
            "      dtype='object') (153, 14)\n",
            "Index(['Commodity Name', 'City Name', 'Type', 'Package', 'Variety',\n",
            "       'Sub Variety', 'Date', 'Low Price', 'High Price', 'Mostly Low',\n",
            "       'Mostly High', 'Origin', 'Color', 'Repack'],\n",
            "      dtype='object') (352, 14)\n",
            "Index(['Commodity Name', 'City Name', 'Type', 'Package', 'Variety',\n",
            "       'Sub Variety', 'Date', 'Low Price', 'High Price', 'Mostly Low',\n",
            "       'Mostly High', 'Origin', 'Color', 'Repack'],\n",
            "      dtype='object') (112, 14)\n",
            "Index(['Commodity Name', 'City Name', 'Type', 'Package', 'Variety',\n",
            "       'Sub Variety', 'Date', 'Low Price', 'High Price', 'Mostly Low',\n",
            "       'Mostly High', 'Origin', 'Color', 'Repack'],\n",
            "      dtype='object') (57, 14)\n"
          ]
        }
      ]
    },
    {
      "cell_type": "markdown",
      "id": "e70b01b9",
      "metadata": {
        "id": "e70b01b9"
      },
      "source": [
        "## Combine Your Data\n",
        "\n",
        "Now that you have four clean sets of data, combine all four into one dataframe that represents the entire Northeast region."
      ]
    },
    {
      "cell_type": "code",
      "execution_count": 6,
      "id": "da059f8a",
      "metadata": {
        "colab": {
          "base_uri": "https://localhost:8080/"
        },
        "id": "da059f8a",
        "outputId": "10572d92-7b44-4e59-bf9f-0f1adc864868"
      },
      "outputs": [
        {
          "output_type": "stream",
          "name": "stdout",
          "text": [
            "(674, 14)\n",
            "Index(['Commodity Name', 'City Name', 'Type', 'Package', 'Variety',\n",
            "       'Sub Variety', 'Date', 'Low Price', 'High Price', 'Mostly Low',\n",
            "       'Mostly High', 'Origin', 'Color', 'Repack'],\n",
            "      dtype='object')\n"
          ]
        }
      ],
      "source": [
        "# Combine the four dataframes into one!\n",
        "\n",
        "megacity = pd.concat([balt, bos, nyc, phil], axis=0)\n",
        "\n",
        "print(megacity.shape)\n",
        "print(megacity.columns)"
      ]
    },
    {
      "cell_type": "markdown",
      "id": "8590082f",
      "metadata": {
        "id": "8590082f"
      },
      "source": [
        "## Answer Some Questions\n",
        "\n",
        "Use `groupby()` and `agg()` to answer the following two questions:\n",
        "\n",
        "1. What is the mean low and high prices for each type of unit of sale in the Northeast region? In the last lesson, we learned that a unit of sale could be something like a bin or individually.\n",
        "2. What is the average number of pumpkins for each variety that came into terminal markets for the year by region? Pumpkin varieties include Howden and Fairytale pumpkins."
      ]
    },
    {
      "cell_type": "code",
      "execution_count": 11,
      "id": "c839639a",
      "metadata": {
        "colab": {
          "base_uri": "https://localhost:8080/"
        },
        "id": "c839639a",
        "outputId": "3212fb57-ba71-4a39-b59f-ec3e732c75cc"
      },
      "outputs": [
        {
          "output_type": "stream",
          "name": "stdout",
          "text": [
            "            index   Low Price\n",
            "0  mean_low_price  134.183976\n",
            "            index  High Price\n",
            "0  mean_low_price  150.671365\n"
          ]
        }
      ],
      "source": [
        "# Put your code here to find the mean low and high prices in the Northeast region for each type of unit of sale.\n",
        "\n",
        "mean_low_result = megacity['Low Price'].agg(mean_low_price='mean').reset_index()\n",
        "\n",
        "print(mean_low_result)\n",
        "\n",
        "mean_high_result = megacity['High Price'].agg(mean_low_price='mean').reset_index()\n",
        "\n",
        "print(mean_high_result)"
      ]
    },
    {
      "cell_type": "code",
      "execution_count": 20,
      "id": "b4b23352",
      "metadata": {
        "colab": {
          "base_uri": "https://localhost:8080/"
        },
        "id": "b4b23352",
        "outputId": "32d11344-f7c9-4bf9-f99c-fab0c683bd22"
      },
      "outputs": [
        {
          "output_type": "stream",
          "name": "stdout",
          "text": [
            "      City Name  Number of Lines\n",
            "0     BALTIMORE              153\n",
            "1        BOSTON              352\n",
            "2      NEW YORK              112\n",
            "3  PHILADELPHIA               57\n"
          ]
        }
      ],
      "source": [
        "# Put your code here to find the average number of pumpkins coming into terminal markets of each variety.\n",
        "\n",
        "result = megacity.groupby('City Name').size().reset_index(name='Number of Lines')\n",
        "print(result)\n"
      ]
    },
    {
      "cell_type": "markdown",
      "id": "a2e5cff4",
      "metadata": {
        "id": "a2e5cff4"
      },
      "source": [
        "## Bonus Mission\n",
        "\n",
        "Try answering the same questions for the Midwest (Chicago, Detroit, and St. Louis) or the Southeast (Atlanta, Columbia, and Miami) regions."
      ]
    },
    {
      "cell_type": "code",
      "execution_count": 21,
      "id": "1d22b7fd",
      "metadata": {
        "colab": {
          "base_uri": "https://localhost:8080/"
        },
        "id": "1d22b7fd",
        "outputId": "630d1b3a-a862-47db-e0a1-5a8304ca4ec8"
      },
      "outputs": [
        {
          "output_type": "stream",
          "name": "stdout",
          "text": [
            "            index   Low Price\n",
            "0  mean_low_price  109.339873\n",
            "            index  High Price\n",
            "0  mean_low_price  111.447468\n",
            "   City Name  Number of Lines\n",
            "0    CHICAGO              248\n",
            "1    DETROIT               44\n",
            "2  ST. LOUIS              103\n"
          ]
        }
      ],
      "source": [
        "# Try the bonus mission if you have time!\n",
        "\n",
        "\n",
        "chi = pd.read_csv(\"https://raw.githubusercontent.com/e3la/data-manipulation/master/dataset/chicago_9-24-2016_9-30-2017.csv\")\n",
        "det = pd.read_csv(\"https://raw.githubusercontent.com/e3la/data-manipulation/master/dataset/detroit_9-24-2016_9-30-2017.csv\")\n",
        "stl = pd.read_csv(\"https://raw.githubusercontent.com/e3la/data-manipulation/master/dataset/st-louis_9-24-2016_9-30-2017.csv\")\n",
        "\n",
        "midwestcity = pd.concat([chi, det, stl], axis=0)\n",
        "\n",
        "mean_low_result = midwestcity['Low Price'].agg(mean_low_price='mean').reset_index()\n",
        "\n",
        "print(mean_low_result)\n",
        "\n",
        "mean_high_result = midwestcity['High Price'].agg(mean_low_price='mean').reset_index()\n",
        "\n",
        "print(mean_high_result)\n",
        "\n",
        "result = midwestcity.groupby('City Name').size().reset_index(name='Number of Lines')\n",
        "print(result)\n",
        "\n"
      ]
    },
    {
      "cell_type": "code",
      "execution_count": null,
      "id": "09dbc152",
      "metadata": {
        "id": "09dbc152"
      },
      "outputs": [],
      "source": []
    }
  ],
  "metadata": {
    "kernelspec": {
      "display_name": "Python 3",
      "language": "python",
      "name": "python3"
    },
    "language_info": {
      "codemirror_mode": {
        "name": "ipython",
        "version": 3
      },
      "file_extension": ".py",
      "mimetype": "text/x-python",
      "name": "python",
      "nbconvert_exporter": "python",
      "pygments_lexer": "ipython3",
      "version": "3.8.8"
    },
    "colab": {
      "provenance": []
    }
  },
  "nbformat": 4,
  "nbformat_minor": 5
}