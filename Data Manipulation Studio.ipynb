{
  "cells": [
    {
      "cell_type": "markdown",
      "id": "1894ccac",
      "metadata": {
        "id": "1894ccac"
      },
      "source": [
        "# Data Manipulation Studio\n",
        "\n",
        "For this studio, we will revisit our California farmers looking for advice on growing pumpkins and the same [pumpkins dataset](https://www.kaggle.com/usda/a-year-of-pumpkin-prices) as provided by the U.S. Department of Agriculture. You may have to clean data in the process of data manipulation, so feel free to pull up your notebook from the last class's studio.\n",
        "\n",
        "We will now be focusing our attention on a different region in the United States, the Northeast. When you open up the `dataset` folder, you will have 13 CSVs, including the San Francisco and Los Angeles data from the last lesson. The 13 CSVs are each a different terminal market in the United States.\n",
        "\n",
        "## Getting Started\n",
        "\n",
        "Import the CSVs for each of the following cities: Baltimore, Boston, New York, and Philadelphia. Set up a dataframe for each city."
      ]
    },
    {
      "cell_type": "code",
      "execution_count": 1,
      "id": "66c9a7e7",
      "metadata": {
        "id": "66c9a7e7"
      },
      "outputs": [],
      "source": [
        "# Import the necessary libraries and CSVs. Make some dataframes!\n",
        "\n",
        "import pandas as pd\n",
        "import matplotlib\n",
        "import matplotlib.pyplot as plt\n",
        "import numpy as np\n",
        "\n",
        "balt = pd.read_csv(\"https://raw.githubusercontent.com/e3la/data-manipulation/master/dataset/baltimore_9-24-2016_9-30-2017.csv\")\n",
        "bos = pd.read_csv(\"https://raw.githubusercontent.com/e3la/data-manipulation/master/dataset/boston_9-24-2016_9-30-2017.csv\")\n",
        "nyc = pd.read_csv(\"https://raw.githubusercontent.com/e3la/data-manipulation/master/dataset/new-york_9-24-2016_9-30-2017.csv\")\n",
        "phil = pd.read_csv(\"https://raw.githubusercontent.com/e3la/data-manipulation/master/dataset/philadelphia_9-24-2016_9-30-2017.csv\")"
      ]
    },
    {
      "cell_type": "markdown",
      "id": "6cfda42f",
      "metadata": {
        "id": "6cfda42f"
      },
      "source": [
        "## Clean Your Data\n",
        "\n",
        "In the last lesson, we cleaned the data to related to San Francisco. Pull up your notebook from the last lesson and use your cleaning skills to clean the dataframes as necessary."
      ]
    },
    {
      "cell_type": "code",
      "source": [
        "print(balt.columns)\n",
        "print(bos.columns)\n",
        "print(nyc.columns)\n",
        "print(phil.columns)"
      ],
      "metadata": {
        "id": "uxogACXwp0uc",
        "outputId": "0daf8227-d414-40d3-f2f6-25d27a732546",
        "colab": {
          "base_uri": "https://localhost:8080/"
        }
      },
      "id": "uxogACXwp0uc",
      "execution_count": 3,
      "outputs": [
        {
          "output_type": "stream",
          "name": "stdout",
          "text": [
            "Index(['Commodity Name', 'City Name', 'Type', 'Package', 'Variety',\n",
            "       'Sub Variety', 'Grade', 'Date', 'Low Price', 'High Price', 'Mostly Low',\n",
            "       'Mostly High', 'Origin', 'Origin District', 'Item Size', 'Color',\n",
            "       'Environment', 'Unit of Sale', 'Quality', 'Condition', 'Appearance',\n",
            "       'Storage', 'Crop', 'Repack', 'Trans Mode'],\n",
            "      dtype='object')\n",
            "Index(['Commodity Name', 'City Name', 'Type', 'Package', 'Variety',\n",
            "       'Sub Variety', 'Grade', 'Date', 'Low Price', 'High Price', 'Mostly Low',\n",
            "       'Mostly High', 'Origin', 'Origin District', 'Item Size', 'Color',\n",
            "       'Environment', 'Unit of Sale', 'Quality', 'Condition', 'Appearance',\n",
            "       'Storage', 'Crop', 'Repack', 'Trans Mode'],\n",
            "      dtype='object')\n",
            "Index(['Commodity Name', 'City Name', 'Type', 'Package', 'Variety',\n",
            "       'Sub Variety', 'Grade', 'Date', 'Low Price', 'High Price', 'Mostly Low',\n",
            "       'Mostly High', 'Origin', 'Origin District', 'Item Size', 'Color',\n",
            "       'Environment', 'Unit of Sale', 'Quality', 'Condition', 'Appearance',\n",
            "       'Storage', 'Crop', 'Repack', 'Trans Mode'],\n",
            "      dtype='object')\n",
            "Index(['Commodity Name', 'City Name', 'Type', 'Package', 'Variety',\n",
            "       'Sub Variety', 'Grade', 'Date', 'Low Price', 'High Price', 'Mostly Low',\n",
            "       'Mostly High', 'Origin', 'Origin District', 'Item Size', 'Color',\n",
            "       'Environment', 'Unit of Sale', 'Quality', 'Condition', 'Appearance',\n",
            "       'Storage', 'Crop', 'Repack', 'Trans Mode'],\n",
            "      dtype='object')\n"
          ]
        }
      ]
    },
    {
      "cell_type": "code",
      "execution_count": 4,
      "id": "98abc290",
      "metadata": {
        "id": "98abc290"
      },
      "outputs": [],
      "source": [
        "# Clean your data here!\n",
        "key = [\"Grade\",\"Origin District\", \"Item Size\", \"Environment\", \"Unit of Sale\", \"Quality\", \"Condition\", \"Appearance\", \"Storage\", \"Crop\", \"Trans Mode\"]\n",
        "balt = balt.drop(key, axis=1)\n",
        "bos = bos.drop(key, axis=1)\n",
        "nyc = nyc.drop(key, axis=1)\n",
        "phil = phil.drop(key, axis=1)\n"
      ]
    },
    {
      "cell_type": "code",
      "source": [
        "print(balt.columns,balt.shape)\n",
        "print(bos.columns,bos.shape)\n",
        "print(nyc.columns,nyc.shape)\n",
        "print(phil.columns,phil.shape)"
      ],
      "metadata": {
        "id": "qO3qgBIfrj-Q",
        "outputId": "265af73d-2978-4b7a-8a9e-4b15a3c4e21c",
        "colab": {
          "base_uri": "https://localhost:8080/"
        }
      },
      "id": "qO3qgBIfrj-Q",
      "execution_count": 11,
      "outputs": [
        {
          "output_type": "stream",
          "name": "stdout",
          "text": [
            "Index(['Commodity Name', 'City Name', 'Type', 'Package', 'Variety',\n",
            "       'Sub Variety', 'Date', 'Low Price', 'High Price', 'Mostly Low',\n",
            "       'Mostly High', 'Origin', 'Color', 'Repack'],\n",
            "      dtype='object') (153, 14)\n",
            "Index(['Commodity Name', 'City Name', 'Type', 'Package', 'Variety',\n",
            "       'Sub Variety', 'Date', 'Low Price', 'High Price', 'Mostly Low',\n",
            "       'Mostly High', 'Origin', 'Color', 'Repack'],\n",
            "      dtype='object') (352, 14)\n",
            "Index(['Commodity Name', 'City Name', 'Type', 'Package', 'Variety',\n",
            "       'Sub Variety', 'Date', 'Low Price', 'High Price', 'Mostly Low',\n",
            "       'Mostly High', 'Origin', 'Color', 'Repack'],\n",
            "      dtype='object') (112, 14)\n",
            "Index(['Commodity Name', 'City Name', 'Type', 'Package', 'Variety',\n",
            "       'Sub Variety', 'Date', 'Low Price', 'High Price', 'Mostly Low',\n",
            "       'Mostly High', 'Origin', 'Color', 'Repack'],\n",
            "      dtype='object') (57, 14)\n"
          ]
        }
      ]
    },
    {
      "cell_type": "markdown",
      "id": "e70b01b9",
      "metadata": {
        "id": "e70b01b9"
      },
      "source": [
        "## Combine Your Data\n",
        "\n",
        "Now that you have four clean sets of data, combine all four into one dataframe that represents the entire Northeast region."
      ]
    },
    {
      "cell_type": "code",
      "execution_count": 12,
      "id": "da059f8a",
      "metadata": {
        "id": "da059f8a",
        "outputId": "dd570e68-dbfc-4533-ef98-862b80779aa1",
        "colab": {
          "base_uri": "https://localhost:8080/"
        }
      },
      "outputs": [
        {
          "output_type": "stream",
          "name": "stdout",
          "text": [
            "(674, 14)\n",
            "Index(['Commodity Name', 'City Name', 'Type', 'Package', 'Variety',\n",
            "       'Sub Variety', 'Date', 'Low Price', 'High Price', 'Mostly Low',\n",
            "       'Mostly High', 'Origin', 'Color', 'Repack'],\n",
            "      dtype='object')\n"
          ]
        }
      ],
      "source": [
        "# Combine the four dataframes into one!\n",
        "\n",
        "megacity = pd.concat([balt, bos, nyc, phil], axis=0)\n",
        "\n",
        "print(megacity.shape)\n",
        "print(megacity.columns)"
      ]
    },
    {
      "cell_type": "markdown",
      "id": "8590082f",
      "metadata": {
        "id": "8590082f"
      },
      "source": [
        "## Answer Some Questions\n",
        "\n",
        "Use `groupby()` and `agg()` to answer the following two questions:\n",
        "\n",
        "1. What is the mean low and high prices for each type of unit of sale in the Northeast region? In the last lesson, we learned that a unit of sale could be something like a bin or individually.\n",
        "2. What is the average number of pumpkins for each variety that came into terminal markets for the year by region? Pumpkin varieties include Howden and Fairytale pumpkins."
      ]
    },
    {
      "cell_type": "code",
      "execution_count": 13,
      "id": "c839639a",
      "metadata": {
        "id": "c839639a",
        "outputId": "76606521-7187-4367-8a6a-e1e9035369b1",
        "colab": {
          "base_uri": "https://localhost:8080/"
        }
      },
      "outputs": [
        {
          "output_type": "stream",
          "name": "stdout",
          "text": [
            "Empty DataFrame\n",
            "Columns: [Type, Low Price, High Price]\n",
            "Index: []\n"
          ]
        }
      ],
      "source": [
        "# Put your code here to find the mean low and high prices in the Northeast region for each type of unit of sale.\n",
        "\n",
        "result = megacity.groupby('Type').agg({\n",
        "    'Low Price': 'mean',\n",
        "    'High Price': 'mean'\n",
        "}).reset_index()T\n",
        "\n",
        "print(result)"
      ]
    },
    {
      "cell_type": "code",
      "execution_count": null,
      "id": "b4b23352",
      "metadata": {
        "id": "b4b23352"
      },
      "outputs": [],
      "source": [
        "# Put your code here to find the average number of pumpkins coming into terminal markets of each variety.\n"
      ]
    },
    {
      "cell_type": "markdown",
      "id": "a2e5cff4",
      "metadata": {
        "id": "a2e5cff4"
      },
      "source": [
        "## Bonus Mission\n",
        "\n",
        "Try answering the same questions for the Midwest (Chicago, Detroit, and St. Louis) or the Southeast (Atlanta, Columbia, and Miami) regions."
      ]
    },
    {
      "cell_type": "code",
      "execution_count": null,
      "id": "1d22b7fd",
      "metadata": {
        "id": "1d22b7fd"
      },
      "outputs": [],
      "source": [
        "# Try the bonus mission if you have time!"
      ]
    },
    {
      "cell_type": "code",
      "execution_count": null,
      "id": "09dbc152",
      "metadata": {
        "id": "09dbc152"
      },
      "outputs": [],
      "source": []
    }
  ],
  "metadata": {
    "kernelspec": {
      "display_name": "Python 3",
      "language": "python",
      "name": "python3"
    },
    "language_info": {
      "codemirror_mode": {
        "name": "ipython",
        "version": 3
      },
      "file_extension": ".py",
      "mimetype": "text/x-python",
      "name": "python",
      "nbconvert_exporter": "python",
      "pygments_lexer": "ipython3",
      "version": "3.8.8"
    },
    "colab": {
      "provenance": []
    }
  },
  "nbformat": 4,
  "nbformat_minor": 5
}